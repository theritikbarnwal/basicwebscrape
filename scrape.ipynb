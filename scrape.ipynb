{
 "cells": [
  {
   "cell_type": "code",
   "execution_count": 1,
   "id": "f086867a-9520-4e91-b39f-8584660c1b96",
   "metadata": {},
   "outputs": [],
   "source": [
    "import requests\n",
    "from bs4 import BeautifulSoup"
   ]
  },
  {
   "cell_type": "code",
   "execution_count": 2,
   "id": "71c0190c-c7ae-4e28-8958-8e15e208561d",
   "metadata": {},
   "outputs": [
    {
     "name": "stdout",
     "output_type": "stream",
     "text": [
      "200: The request was successful, and the server returned the requested data.\n",
      "URL https://en.wikipedia.org/wiki/Dubai is ready to scrape.\n"
     ]
    }
   ],
   "source": [
    "url = \"https://en.wikipedia.org/wiki/Dubai\"\n",
    "response = requests.get(url)\n",
    "statuscode = response.status_code\n",
    "\n",
    "if statuscode == 200:\n",
    "    print(f'{response.status_code}: The request was successful, and the server returned the requested data.')\n",
    "    print(f'URL {url} is ready to scrape.')\n",
    "elif statuscode == 500:\n",
    "    print(f\"{response.status_code}: Server error occurred. The request could not be completed.\")\n",
    "elif statuscode == 403:\n",
    "    print(f'{statuscode}: Access to the page is forbidden, which could be due to IP blocking or restrictions.')\n",
    "else:\n",
    "    print(f\"{response.status_code}: Unexpected error occurred.\")"
   ]
  },
  {
   "cell_type": "code",
   "execution_count": 3,
   "id": "ba2b448c-0160-4e89-a0c5-f2199fae67a9",
   "metadata": {},
   "outputs": [
    {
     "name": "stdout",
     "output_type": "stream",
     "text": [
      "403: Access to the page is forbidden, which could be due to IP blocking or restrictions.\n"
     ]
    }
   ],
   "source": [
    "url = \"https://escharts.com/top-games\"\n",
    "response = requests.get(url)\n",
    "statuscode = response.status_code\n",
    "\n",
    "if statuscode == 200:\n",
    "    print(f'{response.status_code}: The request was successful, and the server returned the requested data.')\n",
    "    print(f'URL {url} is ready to scrape.')\n",
    "elif statuscode == 500:\n",
    "    print(f\"{statuscode}: Server error occurred. The request could not be completed.\")\n",
    "elif statuscode == 403:\n",
    "    print(f'{statuscode}: Access to the page is forbidden, which could be due to IP blocking or restrictions.')\n",
    "else:\n",
    "    print(f\"{response.status_code}: Unexpected error occurred.\")"
   ]
  },
  {
   "cell_type": "code",
   "execution_count": null,
   "id": "76cb4d8e-1771-4f5d-9f68-1a96ea2f413c",
   "metadata": {},
   "outputs": [],
   "source": []
  }
 ],
 "metadata": {
  "kernelspec": {
   "display_name": "Python 3 (ipykernel)",
   "language": "python",
   "name": "python3"
  },
  "language_info": {
   "codemirror_mode": {
    "name": "ipython",
    "version": 3
   },
   "file_extension": ".py",
   "mimetype": "text/x-python",
   "name": "python",
   "nbconvert_exporter": "python",
   "pygments_lexer": "ipython3",
   "version": "3.11.5"
  }
 },
 "nbformat": 4,
 "nbformat_minor": 5
}
